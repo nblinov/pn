{
 "cells": [
  {
   "cell_type": "code",
   "execution_count": 8,
   "metadata": {
    "collapsed": false
   },
   "outputs": [],
   "source": [
    "import numpy as np\n",
    "from scipy import interpolate, integrate\n",
    "\n",
    "import matplotlib.pyplot as plt\n",
    "\n",
    "import pathos.pools\n",
    "import pathos.multiprocessing as mp\n",
    "\n",
    "%matplotlib inline\n",
    "\n",
    "import mc\n",
    "import kinematics as kin\n",
    "\n",
    "fig_size = [7, 3.15]\n",
    "\n",
    "#from cycler import cycler\n",
    "# Color cycle from https://gist.github.com/huyng/816622\n",
    "#c = cycler('color', ['#348ABD', '#7A68A6', '#A60628', '#467821', '#CF4457', '#188487', '#E24A33'])\n",
    "#axes.color_cycle    : [348ABD, 7A68A6, A60628, 467821, CF4457, 188487, E24A33]\n",
    "                      # E24A33 : orange\n",
    "                      # 7A68A6 : purple\n",
    "                      # 348ABD : blue\n",
    "                      # 188487 : turquoise\n",
    "                      # A60628 : red\n",
    "                      # CF4457 : pink\n",
    "                      # 467821 : green\n",
    "#plt.rcParams[\"axes.prop_cycle\"] = c\n",
    "                    \n",
    "# Latex params\n",
    "params = {'backend': 'ps',\n",
    "          'axes.labelsize': 12,\n",
    "          'font.size': 10,\n",
    "          'legend.fontsize': 12,\n",
    "          'xtick.labelsize': 12,\n",
    "          'ytick.labelsize': 12,\n",
    "          'axes.linewidth':0.5,\n",
    "          'text.usetex': True,\n",
    "          'font.family': 'serif',\n",
    "          'font.serif': ['Computer Modern Roman'],\n",
    "          'xtick.major.pad': 8,\n",
    "          'ytick.major.pad': 8,\n",
    "          'figure.figsize':fig_size}\n",
    "\n",
    "plt.rcParams.update(params)\n",
    "\n",
    "pion_fourvectors = np.loadtxt('./DAEdALUSPizeroNEW.tsv')\n",
    "pion_fourvectors_original = np.loadtxt('./DAEdALUSPizeroNEW.tsv')\n",
    "\n",
    "\n",
    "\n",
    "from mpl_toolkits.mplot3d import Axes3D\n",
    "from matplotlib.patches import Circle, PathPatch\n",
    "# register Axes3D class with matplotlib by importing Axes3D\n",
    "import mpl_toolkits.mplot3d.art3d as art3d\n"
   ]
  },
  {
   "cell_type": "markdown",
   "metadata": {},
   "source": [
    "# ME_Default ( trivial ME)"
   ]
  },
  {
   "cell_type": "code",
   "execution_count": 200,
   "metadata": {
    "collapsed": false
   },
   "outputs": [],
   "source": [
    "def get_kin_list_default(Nevt):\n",
    "    def mat_el(M, m1, m2, m3, p1, p2, p3):\n",
    "        return 1.\n",
    "    \n",
    "    mp = 0.93827\n",
    "    mpi = 0.139570\n",
    "    Egamma = 3.\n",
    "    \n",
    "    # Lab-frame gamma+proton momentum\n",
    "    ppstar = np.array([Egamma+mp,0.,0.,Egamma])\n",
    "    Mpstar = np.sqrt(kin.lor_prod(ppstar,ppstar))\n",
    "    \n",
    "    print \"Mpstar = \", Mpstar\n",
    "    \n",
    "    pi1_four_vectors = []\n",
    "    pi2_four_vectors = []\n",
    "    p_four_vectors = []\n",
    "    \n",
    "    weight_list = []\n",
    "\n",
    "    for i in np.arange(Nevt):           \n",
    "        pp, ppi1, ppi2 = mc.gen_three_body_decay_products(ppstar, Mpstar, mp, mpi, mpi)\n",
    "\n",
    "        weight_list.append(mc.get_three_body_weight(Mpstar, mp, mpi, mpi, pp, ppi1, ppi2, mat_el))\n",
    "\n",
    "        pi1_four_vectors.append(ppi1)\n",
    "        pi2_four_vectors.append(ppi2)\n",
    "        p_four_vectors.append(pp)\n",
    "        #pi_four_vectors.append(ppi2)\n",
    "            \n",
    "    return np.array(p_four_vectors), np.array(pi1_four_vectors), np.array(pi2_four_vectors), np.array(weight_list)"
   ]
  },
  {
   "cell_type": "code",
   "execution_count": 201,
   "metadata": {
    "collapsed": false
   },
   "outputs": [
    {
     "name": "stdout",
     "output_type": "stream",
     "text": [
      "Mpstar =  2.55146440165\n"
     ]
    }
   ],
   "source": [
    "p_four_vectors, pi1_four_vectors, pi2_four_vectors, weight_list = get_kin_list_default(100000)"
   ]
  },
  {
   "cell_type": "code",
   "execution_count": 202,
   "metadata": {
    "collapsed": false
   },
   "outputs": [
    {
     "name": "stdout",
     "output_type": "stream",
     "text": [
      "-0.36472682375 2.82413140783\n"
     ]
    }
   ],
   "source": [
    "pi1_pzs = pi1_four_vectors[:,3]\n",
    "pi2_pzs = pi2_four_vectors[:,3]\n",
    "p_pzs = p_four_vectors[:,3]\n",
    "print min(pi1_pzs), max(pi2_pzs)"
   ]
  },
  {
   "cell_type": "code",
   "execution_count": 203,
   "metadata": {
    "collapsed": false
   },
   "outputs": [
    {
     "data": {
      "text/plain": [
       "<matplotlib.legend.Legend at 0x7f7a88ddc350>"
      ]
     },
     "execution_count": 203,
     "metadata": {},
     "output_type": "execute_result"
    },
    {
     "data": {
      "image/png": "[encoded data removed]",
      "text/plain": [
       "<matplotlib.figure.Figure at 0x7f7a88ddc110>"
      ]
     },
     "metadata": {},
     "output_type": "display_data"
    }
   ],
   "source": [
    "pz_bins = np.arange(-0.5,3.5,0.1)\n",
    "\n",
    "a = plt.hist(pi1_pzs,pz_bins,weights=weight_list,normed=True,alpha=0.3,edgecolor=None,histtype='stepfilled',label=r'$\\pi^+$')\n",
    "a = plt.hist(pi2_pzs,pz_bins,weights=weight_list,normed=True,alpha=0.3,edgecolor=None,histtype='stepfilled',label=r'$\\pi^-$')\n",
    "a = plt.hist(p_pzs,pz_bins,weights=weight_list,normed=True,alpha=0.3,edgecolor=None,histtype='stepfilled',label=r'$p$')\n",
    "plt.xlabel(r'$p_z$')\n",
    "\n",
    "plt.title(r'$p_z$ distribution, flat ME')\n",
    "\n",
    "plt.legend()\n",
    "\n",
    "#plt.savefig(\"graphics/IDM_Esum_hist_m1_10MeV.pdf\", format='PDF', dpi=1000, bbox_inches='tight')"
   ]
  },
  {
   "cell_type": "code",
   "execution_count": 204,
   "metadata": {
    "collapsed": true
   },
   "outputs": [],
   "source": [
    "s_ppi1 = np.array([np.sqrt(kin.lor_prod(a+b,a+b)) for a,b in zip(p_four_vectors, pi1_four_vectors)])\n",
    "s_ppi2 = np.array([np.sqrt(kin.lor_prod(a+b,a+b)) for a,b in zip(p_four_vectors, pi2_four_vectors)])\n",
    "s_pipi = np.array([np.sqrt(kin.lor_prod(a+b,a+b)) for a,b in zip(pi1_four_vectors, pi2_four_vectors)])"
   ]
  },
  {
   "cell_type": "code",
   "execution_count": 205,
   "metadata": {
    "collapsed": false
   },
   "outputs": [
    {
     "data": {
      "text/plain": [
       "([1.0779703556383815, 2.4116042222747724],\n",
       " [1.0780355200259606, 2.4117050200446482],\n",
       " [0.27914411579687021, 1.6131942500812153])"
      ]
     },
     "execution_count": 205,
     "metadata": {},
     "output_type": "execute_result"
    }
   ],
   "source": [
    "[min(s_ppi1), max(s_ppi1)], [min(s_ppi2), max(s_ppi2)], [min(s_pipi), max(s_pipi)]"
   ]
  },
  {
   "cell_type": "code",
   "execution_count": 206,
   "metadata": {
    "collapsed": false
   },
   "outputs": [
    {
     "data": {
      "text/plain": [
       "<matplotlib.legend.Legend at 0x7f7a88ce6b10>"
      ]
     },
     "execution_count": 206,
     "metadata": {},
     "output_type": "execute_result"
    },
    {
     "data": {
      "image/png": "[encoded data removed]",
      "text/plain": [
       "<matplotlib.figure.Figure at 0x7f7a8879f2d0>"
      ]
     },
     "metadata": {},
     "output_type": "display_data"
    }
   ],
   "source": [
    "s_pipi_bins =  np.arange(0.2,2.5,0.05) \n",
    "\n",
    "a = plt.hist(s_ppi1,s_pipi_bins,weights=weight_list,normed=True,alpha=0.3,edgecolor=None,histtype='stepfilled',label=r'$\\sqrt{s_{p\\pi^+}}$')\n",
    "a = plt.hist(s_ppi2,s_pipi_bins,weights=weight_list,normed=True,alpha=0.3,edgecolor=None,histtype='stepfilled',label=r'$\\sqrt{s_{p\\pi^-}}$')\n",
    "a = plt.hist(s_pipi,s_pipi_bins,weights=weight_list,normed=True,alpha=0.3,edgecolor=None,histtype='stepfilled',label=r'$\\sqrt{s_{\\pi\\pi}}$')\n",
    "\n",
    "plt.title(r'Invariant Mass Distributions, Flat ME')\n",
    "plt.xlabel(r'$\\sqrt{s}$ [GeV]')\n",
    "plt.legend()"
   ]
  },
  {
   "cell_type": "markdown",
   "metadata": {},
   "source": [
    "# ME_Delta ( Delta Resonance)"
   ]
  },
  {
   "cell_type": "code",
   "execution_count": 165,
   "metadata": {
    "collapsed": true
   },
   "outputs": [],
   "source": [
    "def get_kin_list_delta(Nevt):\n",
    "    mp = 0.93827\n",
    "    mpi = 0.139570\n",
    "    Egamma = 3.\n",
    "    \n",
    "    # Lab-frame gamma+proton momentum\n",
    "    pGamma = np.array([Egamma, 0., 0., Egamma])\n",
    "    ppstar = pGamma + np.array([mp,0.,0.,0.])\n",
    "    Mpstar = np.sqrt(kin.lor_prod(ppstar,ppstar))\n",
    "    \n",
    "    def mat_el(M, m1, m2, m3, p1, p2, p3):\n",
    "        # M = gamma+proton mass, m1 = proton, m2, m3 = pion masses\n",
    "        # p1 = proton, p2 = pi+, p3 = pi-\n",
    "        M_Delta=1.232\n",
    "        G_Delta=0.117\n",
    "        slope_Delta = 0.06\n",
    "        \n",
    "        #sPiplusProton is the invariant mass of the pi+ and proton.\n",
    "        #cosThetaCM_Delta is the CM-frame polar angle of the Delta (the pi+proton pair)\n",
    "        \n",
    "        pDelta = p1+p2\n",
    "        sPiplusProton = kin.lor_prod(pDelta,pDelta)\n",
    "        \n",
    "        sGammaProton = Mpstar**2\n",
    "        # Magnitude of Gamma 3-momentum in the CM frame\n",
    "        pGammaCM = (sGammaProton - mp**2)/(2.*np.sqrt(sGammaProton))\n",
    "        # Magnitude of Delta 3-momentum in the CM frame; Delta recoils against pi-\n",
    "        # Note that Delta is not necessarily on-shell!\n",
    "        M_DeltaStar = np.sqrt(sPiplusProton)\n",
    "        pDeltaCM = np.sqrt( (sGammaProton - M_DeltaStar**2 - mpi**2)**2 - 4.*M_DeltaStar**2 * mpi**2 )/(2.*np.sqrt(sGammaProton))\n",
    "        EDeltaCM = np.sqrt( M_DeltaStar**2 + pDeltaCM**2 )\n",
    "        \n",
    "        \n",
    "        cosThetaCM_Delta = (EDeltaCM - kin.lor_prod(pDelta,pGamma)/pGammaCM)/pDeltaCM\n",
    "        if not (np.fabs(cosThetaCM_Delta) <= 1.):\n",
    "            print cosThetaCM_Delta\n",
    "        assert np.fabs(cosThetaCM_Delta) <= 1.\n",
    "        \n",
    "\n",
    "        norm_Delta =  M_Delta * G_Delta/np.pi / slope_Delta\n",
    "\n",
    "        BW_den_Delta = (sPiplusProton-M_Delta*M_Delta)**2 + M_Delta*M_Delta*G_Delta*G_Delta\n",
    "\n",
    "        ME_Delta = norm_Delta * np.exp(-(1.-cosThetaCM_Delta)/slope_Delta) / BW_den_Delta\n",
    "        #ME_Delta = norm_Delta / BW_den_Delta\n",
    "\n",
    "        return ME_Delta\n",
    "    \n",
    "    \n",
    "    print \"Mpstar = \", Mpstar\n",
    "    \n",
    "    pi1_four_vectors = []\n",
    "    pi2_four_vectors = []\n",
    "    p_four_vectors = []\n",
    "    \n",
    "    weight_list = []\n",
    "\n",
    "    for i in np.arange(Nevt):           \n",
    "        pp, ppi1, ppi2 = mc.gen_three_body_decay_products(ppstar, Mpstar, mp, mpi, mpi)\n",
    "\n",
    "        weight_list.append(mc.get_three_body_weight(Mpstar, mp, mpi, mpi, pp, ppi1, ppi2, mat_el))\n",
    "\n",
    "        pi1_four_vectors.append(ppi1)\n",
    "        pi2_four_vectors.append(ppi2)\n",
    "        p_four_vectors.append(pp)\n",
    "        #pi_four_vectors.append(ppi2)\n",
    "            \n",
    "    return np.array(p_four_vectors), np.array(pi1_four_vectors), np.array(pi2_four_vectors), np.array(weight_list)"
   ]
  },
  {
   "cell_type": "code",
   "execution_count": 185,
   "metadata": {
    "collapsed": false
   },
   "outputs": [
    {
     "name": "stdout",
     "output_type": "stream",
     "text": [
      "Mpstar =  2.55146440165\n"
     ]
    }
   ],
   "source": [
    "p_four_vectors, pi1_four_vectors, pi2_four_vectors, weight_list = get_kin_list_delta(100000)"
   ]
  },
  {
   "cell_type": "code",
   "execution_count": 186,
   "metadata": {
    "collapsed": false
   },
   "outputs": [
    {
     "name": "stdout",
     "output_type": "stream",
     "text": [
      "-0.366848016323 2.8105159412\n"
     ]
    }
   ],
   "source": [
    "pi1_pzs = pi1_four_vectors[:,3]\n",
    "pi2_pzs = pi2_four_vectors[:,3]\n",
    "p_pzs = p_four_vectors[:,3]\n",
    "print min(pi1_pzs), max(pi2_pzs)"
   ]
  },
  {
   "cell_type": "code",
   "execution_count": null,
   "metadata": {
    "collapsed": true
   },
   "outputs": [],
   "source": []
  },
  {
   "cell_type": "code",
   "execution_count": 187,
   "metadata": {
    "collapsed": false
   },
   "outputs": [
    {
     "data": {
      "text/plain": [
       "<matplotlib.legend.Legend at 0x7f7a891def10>"
      ]
     },
     "execution_count": 187,
     "metadata": {},
     "output_type": "execute_result"
    },
    {
     "data": {
      "image/png": "[encoded data removed]",
      "text/plain": [
       "<matplotlib.figure.Figure at 0x7f7a891ded50>"
      ]
     },
     "metadata": {},
     "output_type": "display_data"
    }
   ],
   "source": [
    "pz_bins = np.arange(-0.5,3.5,0.1)\n",
    "\n",
    "a = plt.hist(pi1_pzs,pz_bins,weights=weight_list,normed=True,alpha=0.3,edgecolor=None,histtype='stepfilled',label=r'$\\pi^+$')\n",
    "a = plt.hist(pi2_pzs,pz_bins,weights=weight_list,normed=True,alpha=0.3,edgecolor=None,histtype='stepfilled',label=r'$\\pi^-$')\n",
    "a = plt.hist(p_pzs,pz_bins,weights=weight_list,normed=True,alpha=0.3,edgecolor=None,histtype='stepfilled',label=r'$p$')\n",
    "plt.xlabel(r'$p_z$ [GeV]')\n",
    "plt.title(r'$p_z$ distribution, $\\Delta^{++}$ resonance ME')\n",
    "\n",
    "plt.legend()\n",
    "\n",
    "#plt.savefig(\"graphics/IDM_Esum_hist_m1_10MeV.pdf\", format='PDF', dpi=1000, bbox_inches='tight')"
   ]
  },
  {
   "cell_type": "code",
   "execution_count": 189,
   "metadata": {
    "collapsed": true
   },
   "outputs": [],
   "source": [
    "s_ppi1 = np.array([np.sqrt(kin.lor_prod(a+b,a+b)) for a,b in zip(p_four_vectors, pi1_four_vectors)])\n",
    "s_ppi2 = np.array([np.sqrt(kin.lor_prod(a+b,a+b)) for a,b in zip(p_four_vectors, pi2_four_vectors)])\n",
    "s_pipi = np.array([np.sqrt(kin.lor_prod(a+b,a+b)) for a,b in zip(pi1_four_vectors, pi2_four_vectors)])"
   ]
  },
  {
   "cell_type": "code",
   "execution_count": 190,
   "metadata": {
    "collapsed": false
   },
   "outputs": [
    {
     "data": {
      "text/plain": [
       "([1.0783986608602019, 2.4114735851527875],\n",
       " [1.0779658096573794, 2.4118029157175411],\n",
       " [0.27924487928441788, 1.6131867088760061])"
      ]
     },
     "execution_count": 190,
     "metadata": {},
     "output_type": "execute_result"
    }
   ],
   "source": [
    "[min(s_ppi1), max(s_ppi1)], [min(s_ppi2), max(s_ppi2)], [min(s_pipi), max(s_pipi)]"
   ]
  },
  {
   "cell_type": "code",
   "execution_count": 192,
   "metadata": {
    "collapsed": false
   },
   "outputs": [
    {
     "data": {
      "text/plain": [
       "<matplotlib.legend.Legend at 0x7f7a890a14d0>"
      ]
     },
     "execution_count": 192,
     "metadata": {},
     "output_type": "execute_result"
    },
    {
     "data": {
      "image/png": "[encoded data removed]",
      "text/plain": [
       "<matplotlib.figure.Figure at 0x7f7a8b12fad0>"
      ]
     },
     "metadata": {},
     "output_type": "display_data"
    }
   ],
   "source": [
    "s_pipi_bins =  np.arange(0.2,2.5,0.05) \n",
    "\n",
    "a = plt.hist(s_ppi1,s_pipi_bins,weights=weight_list,normed=True,alpha=0.3,edgecolor=None,histtype='stepfilled',label=r'$\\sqrt{s_{p\\pi^+}}$')\n",
    "a = plt.hist(s_ppi2,s_pipi_bins,weights=weight_list,normed=True,alpha=0.3,edgecolor=None,histtype='stepfilled',label=r'$\\sqrt{s_{p\\pi^-}}$')\n",
    "a = plt.hist(s_pipi,s_pipi_bins,weights=weight_list,normed=True,alpha=0.3,edgecolor=None,histtype='stepfilled',label=r'$\\sqrt{s_{\\pi\\pi}}$')\n",
    "\n",
    "plt.title(r'Invariant Mass Distributions, $\\Delta^{++}$ resonance ME')\n",
    "plt.xlabel(r'$\\sqrt{s}$ [GeV]')\n",
    "plt.legend()"
   ]
  },
  {
   "cell_type": "markdown",
   "metadata": {},
   "source": [
    "# ME_Rho ( Rho Resonance)"
   ]
  },
  {
   "cell_type": "code",
   "execution_count": 172,
   "metadata": {
    "collapsed": true
   },
   "outputs": [],
   "source": [
    "def get_kin_list_rho(Nevt):\n",
    "    mp = 0.93827\n",
    "    mpi = 0.139570\n",
    "    Egamma = 3.\n",
    "    \n",
    "    # Lab-frame gamma+proton momentum\n",
    "    pGamma = np.array([Egamma, 0., 0., Egamma])\n",
    "    ppstar = pGamma + np.array([mp,0.,0.,0.])\n",
    "    Mpstar = np.sqrt(kin.lor_prod(ppstar,ppstar))\n",
    "    \n",
    "    def mat_el(M, m1, m2, m3, p1, p2, p3):\n",
    "        # M = gamma+proton mass, m1 = proton, m2, m3 = pion masses\n",
    "        # p1 = proton, p2 = pi+, p3 = pi-\n",
    "        M_rho=0.775\n",
    "        G_rho=0.149\n",
    "        slope_rho = 0.06\n",
    "\n",
    "        #s_pipi is the invariant mass of the pi+ and pi-.\n",
    "        #cosThetaCM_rho is the CM-frame polar angle of the rho (the pi+pi- system)\n",
    "        pRho = p2+p3\n",
    "        s_pipi = kin.lor_prod(pRho,pRho)\n",
    "              \n",
    "        sGammaProton = Mpstar**2\n",
    "        # Magnitude of Gamma 3-momentum in the CM frame\n",
    "        pGammaCM = (sGammaProton - mp**2)/(2.*np.sqrt(sGammaProton))\n",
    "        # Magnitude of Rho 3-momentum in the CM frame, rho recoils against p\n",
    "        # Note that rho isn't necessarily on-shell!\n",
    "        M_rhoStar = np.sqrt(s_pipi)\n",
    "        pRhoCM = np.sqrt( (sGammaProton - M_rhoStar**2 - mp**2)**2 - 4.*M_rhoStar**2 * mp**2 )/(2.*np.sqrt(sGammaProton))\n",
    "        ERhoCM = np.sqrt( M_rhoStar**2 + pRhoCM**2 )\n",
    "        \n",
    "        cosThetaCM_rho = (ERhoCM - kin.lor_prod(pRho,pGamma)/pGammaCM)/pRhoCM\n",
    "        if not (np.fabs(cosThetaCM_rho) <= 1.):\n",
    "            print cosThetaCM_rho\n",
    "        assert np.fabs(cosThetaCM_rho) <= 1.\n",
    "\n",
    "        norm_rho =  M_rho * G_rho/np.pi / slope_rho\n",
    "\n",
    "        BW_den_rho = (s_pipi-M_rho*M_rho)**2 + M_rho * M_rho * G_rho * G_rho\n",
    "\n",
    "        ME_rho = norm_rho * np.exp(-(1-cosThetaCM_rho)/slope_rho) / BW_den_rho\n",
    "        #ME_rho = norm_rho / BW_den_rho\n",
    "\n",
    "        return ME_rho\n",
    "    \n",
    "    \n",
    "    print \"Mpstar = \", Mpstar\n",
    "    \n",
    "    pi1_four_vectors = []\n",
    "    pi2_four_vectors = []\n",
    "    p_four_vectors = []\n",
    "    \n",
    "    weight_list = []\n",
    "\n",
    "    for i in np.arange(Nevt):           \n",
    "        pp, ppi1, ppi2 = mc.gen_three_body_decay_products(ppstar, Mpstar, mp, mpi, mpi)\n",
    "\n",
    "        weight_list.append(mc.get_three_body_weight(Mpstar, mp, mpi, mpi, pp, ppi1, ppi2, mat_el))\n",
    "\n",
    "        pi1_four_vectors.append(ppi1)\n",
    "        pi2_four_vectors.append(ppi2)\n",
    "        p_four_vectors.append(pp)\n",
    "        #pi_four_vectors.append(ppi2)\n",
    "            \n",
    "    return np.array(p_four_vectors), np.array(pi1_four_vectors), np.array(pi2_four_vectors), np.array(weight_list)"
   ]
  },
  {
   "cell_type": "code",
   "execution_count": 194,
   "metadata": {
    "collapsed": false
   },
   "outputs": [
    {
     "name": "stdout",
     "output_type": "stream",
     "text": [
      "Mpstar =  2.55146440165\n"
     ]
    }
   ],
   "source": [
    "p_four_vectors, pi1_four_vectors, pi2_four_vectors, weight_list = get_kin_list_rho(100000)"
   ]
  },
  {
   "cell_type": "code",
   "execution_count": 195,
   "metadata": {
    "collapsed": false
   },
   "outputs": [
    {
     "name": "stdout",
     "output_type": "stream",
     "text": [
      "-0.363876829592 2.82332351251\n"
     ]
    }
   ],
   "source": [
    "pi1_pzs = pi1_four_vectors[:,3]\n",
    "pi2_pzs = pi2_four_vectors[:,3]\n",
    "p_pzs = p_four_vectors[:,3]\n",
    "print min(pi1_pzs), max(pi2_pzs)"
   ]
  },
  {
   "cell_type": "code",
   "execution_count": 196,
   "metadata": {
    "collapsed": false
   },
   "outputs": [
    {
     "data": {
      "text/plain": [
       "<matplotlib.legend.Legend at 0x7f7a890b09d0>"
      ]
     },
     "execution_count": 196,
     "metadata": {},
     "output_type": "execute_result"
    },
    {
     "data": {
      "image/png": "[encoded data removed]",
      "text/plain": [
       "<matplotlib.figure.Figure at 0x7f7a890b0bd0>"
      ]
     },
     "metadata": {},
     "output_type": "display_data"
    }
   ],
   "source": [
    "pz_bins = np.arange(-0.5,3.5,0.1)\n",
    "\n",
    "a = plt.hist(pi1_pzs,pz_bins,weights=weight_list,normed=True,alpha=0.3,edgecolor=None,histtype='stepfilled',label=r'$\\pi^+$')\n",
    "a = plt.hist(pi2_pzs,pz_bins,weights=weight_list,normed=True,alpha=0.3,edgecolor=None,histtype='stepfilled',label=r'$\\pi^-$')\n",
    "a = plt.hist(p_pzs,pz_bins,weights=weight_list,normed=True,alpha=0.3,edgecolor=None,histtype='stepfilled',label=r'$p$')\n",
    "plt.xlabel(r'$p_z$')\n",
    "plt.title(r'$p_z$ distribution, $\\rho$ resonance ME')\n",
    "plt.legend()\n",
    "\n",
    "#plt.savefig(\"graphics/IDM_Esum_hist_m1_10MeV.pdf\", format='PDF', dpi=1000, bbox_inches='tight')"
   ]
  },
  {
   "cell_type": "code",
   "execution_count": 197,
   "metadata": {
    "collapsed": false
   },
   "outputs": [],
   "source": [
    "s_ppi1 = np.array([np.sqrt(kin.lor_prod(a+b,a+b)) for a,b in zip(p_four_vectors, pi1_four_vectors)])\n",
    "s_ppi2 = np.array([np.sqrt(kin.lor_prod(a+b,a+b)) for a,b in zip(p_four_vectors, pi2_four_vectors)])\n",
    "s_pipi = np.array([np.sqrt(kin.lor_prod(a+b,a+b)) for a,b in zip(pi1_four_vectors, pi2_four_vectors)])"
   ]
  },
  {
   "cell_type": "code",
   "execution_count": 198,
   "metadata": {
    "collapsed": false
   },
   "outputs": [
    {
     "data": {
      "text/plain": [
       "([1.0783972128059016, 2.4113661366211812],\n",
       " [1.0781625148066072, 2.411489839554767],\n",
       " [0.27918631674034949, 1.6131898819188297])"
      ]
     },
     "execution_count": 198,
     "metadata": {},
     "output_type": "execute_result"
    }
   ],
   "source": [
    "[min(s_ppi1), max(s_ppi1)], [min(s_ppi2), max(s_ppi2)], [min(s_pipi), max(s_pipi)]"
   ]
  },
  {
   "cell_type": "code",
   "execution_count": 199,
   "metadata": {
    "collapsed": false
   },
   "outputs": [
    {
     "data": {
      "text/plain": [
       "<matplotlib.legend.Legend at 0x7f7a8b203410>"
      ]
     },
     "execution_count": 199,
     "metadata": {},
     "output_type": "execute_result"
    },
    {
     "data": {
      "image/png": "[encoded data removed]",
      "text/plain": [
       "<matplotlib.figure.Figure at 0x7f7a8b203890>"
      ]
     },
     "metadata": {},
     "output_type": "display_data"
    }
   ],
   "source": [
    "s_pipi_bins =  np.arange(0.2,2.5,0.05) \n",
    "\n",
    "a = plt.hist(s_ppi1,s_pipi_bins,weights=weight_list,normed=True,alpha=0.3,edgecolor=None,histtype='stepfilled',label=r'$\\sqrt{s_{p\\pi^+}}$')\n",
    "a = plt.hist(s_ppi2,s_pipi_bins,weights=weight_list,normed=True,alpha=0.3,edgecolor=None,histtype='stepfilled',label=r'$\\sqrt{s_{p\\pi^-}}$')\n",
    "a = plt.hist(s_pipi,s_pipi_bins,weights=weight_list,normed=True,alpha=0.3,edgecolor=None,histtype='stepfilled',label=r'$\\sqrt{s_{\\pi\\pi}}$')\n",
    "\n",
    "plt.xlabel(r'$\\sqrt{s}$ [GeV]')\n",
    "plt.title(r'Invariant Mass Distributions, $\\rho$ resonance ME')\n",
    "plt.legend()"
   ]
  },
  {
   "cell_type": "code",
   "execution_count": null,
   "metadata": {
    "collapsed": true
   },
   "outputs": [],
   "source": []
  }
 ],
 "metadata": {
  "kernelspec": {
   "display_name": "Python 2",
   "language": "python",
   "name": "python2"
  },
  "language_info": {
   "codemirror_mode": {
    "name": "ipython",
    "version": 2
   },
   "file_extension": ".py",
   "mimetype": "text/x-python",
   "name": "python",
   "nbconvert_exporter": "python",
   "pygments_lexer": "ipython2",
   "version": "2.7.12"
  }
 },
 "nbformat": 4,
 "nbformat_minor": 0
}
