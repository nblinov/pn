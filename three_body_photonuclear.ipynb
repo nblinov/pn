{
 "cells": [
  {
   "cell_type": "code",
   "execution_count": 21,
   "metadata": {
    "collapsed": false
   },
   "outputs": [],
   "source": [
    "import numpy as np\n",
    "from scipy import interpolate, integrate\n",
    "import matplotlib.pyplot as plt\n",
    "\n",
    "# functions to generate phase-space points for two and three-body decays\n",
    "import mc\n",
    "# kinematic functions: boosts, vector products, etc\n",
    "import kinematics as kin\n",
    "\n",
    "%matplotlib inline\n",
    "\n",
    "fig_size = [7, 3.15]\n",
    "                   \n",
    "# Latex params\n",
    "params = {'backend': 'ps',\n",
    "          'axes.labelsize': 12,\n",
    "          'font.size': 10,\n",
    "          'legend.fontsize': 12,\n",
    "          'xtick.labelsize': 12,\n",
    "          'ytick.labelsize': 12,\n",
    "          'axes.linewidth':0.5,\n",
    "          'text.usetex': True,\n",
    "          'font.family': 'serif',\n",
    "          'font.serif': ['Computer Modern Roman'],\n",
    "          'xtick.major.pad': 8,\n",
    "          'ytick.major.pad': 8,\n",
    "          'figure.figsize':fig_size}\n",
    "\n",
    "plt.rcParams.update(params)\n",
    "\n",
    "\n",
    "def get_kin_list(Nevt, ME_func):\n",
    "    \"\"\"\n",
    "    Generates Nevt events using ME_func matrix element function,\n",
    "    returns Nevt-long lists of proton, pi1, pi2 four_vectors, and event weights\n",
    "    Note that the decay matrix elements can depend on lab-frame kinematics, \n",
    "    so if these change, make sure to propagate the changes into the ME functions\n",
    "    \"\"\"\n",
    "    mp = 0.93827\n",
    "    mpi = 0.139570\n",
    "    Egamma = 3.\n",
    "    \n",
    "    # Lab-frame gamma+proton momentum\n",
    "    pGamma = np.array([Egamma, 0., 0., Egamma])\n",
    "    ppstar = pGamma + np.array([mp,0.,0.,0.])\n",
    "    Mpstar = np.sqrt(kin.lor_prod(ppstar,ppstar))\n",
    "      \n",
    "    \n",
    "    print \"Mpstar = \", Mpstar\n",
    "    \n",
    "    pi1_four_vectors = []\n",
    "    pi2_four_vectors = []\n",
    "    p_four_vectors = []\n",
    "    \n",
    "    weight_list = []\n",
    "\n",
    "    for i in np.arange(Nevt):           \n",
    "        pp, ppi1, ppi2 = mc.gen_three_body_decay_products(ppstar, Mpstar, mp, mpi, mpi)\n",
    "\n",
    "        weight_list.append(mc.get_three_body_weight(Mpstar, mp, mpi, mpi, pp, ppi1, ppi2, ME_func))\n",
    "\n",
    "        pi1_four_vectors.append(ppi1)\n",
    "        pi2_four_vectors.append(ppi2)\n",
    "        p_four_vectors.append(pp)\n",
    "        #pi_four_vectors.append(ppi2)\n",
    "            \n",
    "    return np.array(p_four_vectors), np.array(pi1_four_vectors), np.array(pi2_four_vectors), np.array(weight_list)\n"
   ]
  },
  {
   "cell_type": "markdown",
   "metadata": {},
   "source": [
    "# ME_Default ( trivial ME)"
   ]
  },
  {
   "cell_type": "code",
   "execution_count": 22,
   "metadata": {
    "collapsed": false
   },
   "outputs": [],
   "source": [
    "def mat_el_default(M, m1, m2, m3, p1, p2, p3):\n",
    "    # M = gamma+proton mass, m1 = proton, m2, m3 = pion masses\n",
    "    # p1 = proton, p2 = pi+, p3 = pi-\n",
    "    return 1."
   ]
  },
  {
   "cell_type": "code",
   "execution_count": 23,
   "metadata": {
    "collapsed": false
   },
   "outputs": [
    {
     "name": "stdout",
     "output_type": "stream",
     "text": [
      "Mpstar =  2.55146440165\n"
     ]
    }
   ],
   "source": [
    "# Generate events\n",
    "p_four_vectors, pi1_four_vectors, pi2_four_vectors, weight_list = get_kin_list(100000,mat_el_default)"
   ]
  },
  {
   "cell_type": "code",
   "execution_count": 24,
   "metadata": {
    "collapsed": false
   },
   "outputs": [
    {
     "name": "stdout",
     "output_type": "stream",
     "text": [
      "-0.361996328848 2.80370685145\n"
     ]
    }
   ],
   "source": [
    "# Get z components of the 4 vectors\n",
    "pi1_pzs = pi1_four_vectors[:,3]\n",
    "pi2_pzs = pi2_four_vectors[:,3]\n",
    "p_pzs = p_four_vectors[:,3]\n",
    "print min(pi1_pzs), max(pi2_pzs)"
   ]
  },
  {
   "cell_type": "code",
   "execution_count": 25,
   "metadata": {
    "collapsed": false
   },
   "outputs": [
    {
     "data": {
      "text/plain": [
       "<matplotlib.legend.Legend at 0x7fbf7b3c3f90>"
      ]
     },
     "execution_count": 25,
     "metadata": {},
     "output_type": "execute_result"
    },
    {
     "data": {
      "image/png": "[encoded data removed]",
      "text/plain": [
       "<matplotlib.figure.Figure at 0x7fbf778babd0>"
      ]
     },
     "metadata": {},
     "output_type": "display_data"
    }
   ],
   "source": [
    "# Draw pz distribution\n",
    "pz_bins = np.arange(-0.5,3.5,0.1)\n",
    "\n",
    "a = plt.hist(pi1_pzs,pz_bins,weights=weight_list,normed=True,alpha=0.3,edgecolor=None,histtype='stepfilled',label=r'$\\pi^+$')\n",
    "a = plt.hist(pi2_pzs,pz_bins,weights=weight_list,normed=True,alpha=0.3,edgecolor=None,histtype='stepfilled',label=r'$\\pi^-$')\n",
    "a = plt.hist(p_pzs,pz_bins,weights=weight_list,normed=True,alpha=0.3,edgecolor=None,histtype='stepfilled',label=r'$p$')\n",
    "plt.xlabel(r'$p_z$')\n",
    "\n",
    "plt.title(r'$p_z$ distribution, flat ME')\n",
    "\n",
    "plt.legend()\n",
    "\n",
    "#plt.savefig(\"graphics/IDM_Esum_hist_m1_10MeV.pdf\", format='PDF', dpi=1000, bbox_inches='tight')"
   ]
  },
  {
   "cell_type": "code",
   "execution_count": 26,
   "metadata": {
    "collapsed": true
   },
   "outputs": [],
   "source": [
    "# Get invariant masses\n",
    "s_ppi1 = np.array([np.sqrt(kin.lor_prod(a+b,a+b)) for a,b in zip(p_four_vectors, pi1_four_vectors)])\n",
    "s_ppi2 = np.array([np.sqrt(kin.lor_prod(a+b,a+b)) for a,b in zip(p_four_vectors, pi2_four_vectors)])\n",
    "s_pipi = np.array([np.sqrt(kin.lor_prod(a+b,a+b)) for a,b in zip(pi1_four_vectors, pi2_four_vectors)])"
   ]
  },
  {
   "cell_type": "code",
   "execution_count": 27,
   "metadata": {
    "collapsed": false
   },
   "outputs": [
    {
     "data": {
      "text/plain": [
       "([1.0789618669813155, 2.4106968051262792],\n",
       " [1.0780376176573243, 2.4116282953299666],\n",
       " [0.27916815302996756, 1.613191865789513])"
      ]
     },
     "execution_count": 27,
     "metadata": {},
     "output_type": "execute_result"
    }
   ],
   "source": [
    "[min(s_ppi1), max(s_ppi1)], [min(s_ppi2), max(s_ppi2)], [min(s_pipi), max(s_pipi)]"
   ]
  },
  {
   "cell_type": "code",
   "execution_count": 28,
   "metadata": {
    "collapsed": false
   },
   "outputs": [
    {
     "data": {
      "text/plain": [
       "<matplotlib.legend.Legend at 0x7fbf7779fa50>"
      ]
     },
     "execution_count": 28,
     "metadata": {},
     "output_type": "execute_result"
    },
    {
     "data": {
      "image/png": "[encoded data removed]",
      "text/plain": [
       "<matplotlib.figure.Figure at 0x7fbf77a1f1d0>"
      ]
     },
     "metadata": {},
     "output_type": "display_data"
    }
   ],
   "source": [
    "# Make invariant mass plot\n",
    "s_pipi_bins =  np.arange(0.2,2.5,0.05) \n",
    "\n",
    "a = plt.hist(s_ppi1,s_pipi_bins,weights=weight_list,normed=True,alpha=0.3,edgecolor=None,histtype='stepfilled',label=r'$\\sqrt{s_{p\\pi^+}}$')\n",
    "a = plt.hist(s_ppi2,s_pipi_bins,weights=weight_list,normed=True,alpha=0.3,edgecolor=None,histtype='stepfilled',label=r'$\\sqrt{s_{p\\pi^-}}$')\n",
    "a = plt.hist(s_pipi,s_pipi_bins,weights=weight_list,normed=True,alpha=0.3,edgecolor=None,histtype='stepfilled',label=r'$\\sqrt{s_{\\pi\\pi}}$')\n",
    "\n",
    "plt.title(r'Invariant Mass Distributions, Flat ME')\n",
    "plt.xlabel(r'$\\sqrt{s}$ [GeV]')\n",
    "plt.legend()"
   ]
  },
  {
   "cell_type": "markdown",
   "metadata": {},
   "source": [
    "# ME_Delta ( Delta Resonance)"
   ]
  },
  {
   "cell_type": "code",
   "execution_count": 29,
   "metadata": {
    "collapsed": true
   },
   "outputs": [],
   "source": [
    "def mat_el_delta(Mpstar, m1, m2, m3, p1, p2, p3):\n",
    "    # Mpstar = gamma+proton mass, m1 = proton, m2, m3 = pion masses\n",
    "    # p1 = proton, p2 = pi+, p3 = pi-\n",
    "    mp = 0.93827\n",
    "    mpi = 0.139570\n",
    "    \n",
    "    M_Delta=1.232\n",
    "    G_Delta=0.117\n",
    "    slope_Delta = 0.06\n",
    "\n",
    "    #sPiplusProton is the invariant mass of the pi+ and proton.\n",
    "    #cosThetaCM_Delta is the CM-frame polar angle of the Delta (the pi+proton pair)\n",
    "\n",
    "    pDelta = p1+p2\n",
    "    sPiplusProton = kin.lor_prod(pDelta,pDelta)\n",
    "\n",
    "    sGammaProton = Mpstar**2\n",
    "    # Magnitude of Gamma 3-momentum in the CM frame\n",
    "    pGammaCM = (sGammaProton - mp**2)/(2.*np.sqrt(sGammaProton))\n",
    "    # Magnitude of Delta 3-momentum in the CM frame; Delta recoils against pi-\n",
    "    # Note that Delta is not necessarily on-shell!\n",
    "    M_DeltaStar = np.sqrt(sPiplusProton)\n",
    "    pDeltaCM = np.sqrt( (sGammaProton - M_DeltaStar**2 - mpi**2)**2 - 4.*M_DeltaStar**2 * mpi**2 )/(2.*np.sqrt(sGammaProton))\n",
    "    EDeltaCM = np.sqrt( M_DeltaStar**2 + pDeltaCM**2 )\n",
    "\n",
    "    \n",
    "    # HARDCODED LAB-FRAME KINEMATICS!\n",
    "    Egamma = 3.\n",
    "    # Lab-frame gamma+proton momentum\n",
    "    pGamma = np.array([Egamma, 0., 0., Egamma])\n",
    "    \n",
    "    cosThetaCM_Delta = (EDeltaCM - kin.lor_prod(pDelta,pGamma)/pGammaCM)/pDeltaCM\n",
    "    if not (np.fabs(cosThetaCM_Delta) <= 1.):\n",
    "        print cosThetaCM_Delta\n",
    "    assert np.fabs(cosThetaCM_Delta) <= 1.\n",
    "\n",
    "    norm_Delta =  M_Delta * G_Delta/np.pi / slope_Delta\n",
    "\n",
    "    BW_den_Delta = (sPiplusProton-M_Delta*M_Delta)**2 + M_Delta*M_Delta*G_Delta*G_Delta\n",
    "\n",
    "    ME_Delta = norm_Delta * np.exp(-(1.-cosThetaCM_Delta)/slope_Delta) / BW_den_Delta\n",
    "    #ME_Delta = norm_Delta / BW_den_Delta\n",
    "\n",
    "    return ME_Delta"
   ]
  },
  {
   "cell_type": "code",
   "execution_count": 30,
   "metadata": {
    "collapsed": false
   },
   "outputs": [
    {
     "name": "stdout",
     "output_type": "stream",
     "text": [
      "Mpstar =  2.55146440165\n"
     ]
    }
   ],
   "source": [
    "p_four_vectors, pi1_four_vectors, pi2_four_vectors, weight_list = get_kin_list(100000,mat_el_delta)"
   ]
  },
  {
   "cell_type": "code",
   "execution_count": 31,
   "metadata": {
    "collapsed": false
   },
   "outputs": [
    {
     "name": "stdout",
     "output_type": "stream",
     "text": [
      "-0.36991131773 2.81620727256\n"
     ]
    }
   ],
   "source": [
    "# get z components\n",
    "pi1_pzs = pi1_four_vectors[:,3]\n",
    "pi2_pzs = pi2_four_vectors[:,3]\n",
    "p_pzs = p_four_vectors[:,3]\n",
    "print min(pi1_pzs), max(pi2_pzs)"
   ]
  },
  {
   "cell_type": "code",
   "execution_count": null,
   "metadata": {
    "collapsed": true
   },
   "outputs": [],
   "source": []
  },
  {
   "cell_type": "code",
   "execution_count": 32,
   "metadata": {
    "collapsed": false
   },
   "outputs": [
    {
     "data": {
      "text/plain": [
       "<matplotlib.legend.Legend at 0x7fbf7774cc10>"
      ]
     },
     "execution_count": 32,
     "metadata": {},
     "output_type": "execute_result"
    },
    {
     "data": {
      "image/png": "[encoded data removed]",
      "text/plain": [
       "<matplotlib.figure.Figure at 0x7fbf7774ca50>"
      ]
     },
     "metadata": {},
     "output_type": "display_data"
    }
   ],
   "source": [
    "pz_bins = np.arange(-0.5,3.5,0.1)\n",
    "\n",
    "a = plt.hist(pi1_pzs,pz_bins,weights=weight_list,normed=True,alpha=0.3,edgecolor=None,histtype='stepfilled',label=r'$\\pi^+$')\n",
    "a = plt.hist(pi2_pzs,pz_bins,weights=weight_list,normed=True,alpha=0.3,edgecolor=None,histtype='stepfilled',label=r'$\\pi^-$')\n",
    "a = plt.hist(p_pzs,pz_bins,weights=weight_list,normed=True,alpha=0.3,edgecolor=None,histtype='stepfilled',label=r'$p$')\n",
    "plt.xlabel(r'$p_z$ [GeV]')\n",
    "plt.title(r'$p_z$ distribution, $\\Delta^{++}$ resonance ME')\n",
    "\n",
    "plt.legend()\n",
    "\n",
    "#plt.savefig(\"graphics/IDM_Esum_hist_m1_10MeV.pdf\", format='PDF', dpi=1000, bbox_inches='tight')"
   ]
  },
  {
   "cell_type": "code",
   "execution_count": 33,
   "metadata": {
    "collapsed": true
   },
   "outputs": [],
   "source": [
    "s_ppi1 = np.array([np.sqrt(kin.lor_prod(a+b,a+b)) for a,b in zip(p_four_vectors, pi1_four_vectors)])\n",
    "s_ppi2 = np.array([np.sqrt(kin.lor_prod(a+b,a+b)) for a,b in zip(p_four_vectors, pi2_four_vectors)])\n",
    "s_pipi = np.array([np.sqrt(kin.lor_prod(a+b,a+b)) for a,b in zip(pi1_four_vectors, pi2_four_vectors)])"
   ]
  },
  {
   "cell_type": "code",
   "execution_count": 34,
   "metadata": {
    "collapsed": false
   },
   "outputs": [
    {
     "data": {
      "text/plain": [
       "([1.078573181557881, 2.411599585538402],\n",
       " [1.0790247382900349, 2.4118599552356801],\n",
       " [0.27916642995494334, 1.6131810591299971])"
      ]
     },
     "execution_count": 34,
     "metadata": {},
     "output_type": "execute_result"
    }
   ],
   "source": [
    "[min(s_ppi1), max(s_ppi1)], [min(s_ppi2), max(s_ppi2)], [min(s_pipi), max(s_pipi)]"
   ]
  },
  {
   "cell_type": "code",
   "execution_count": 35,
   "metadata": {
    "collapsed": false
   },
   "outputs": [
    {
     "data": {
      "text/plain": [
       "<matplotlib.legend.Legend at 0x7fbf776005d0>"
      ]
     },
     "execution_count": 35,
     "metadata": {},
     "output_type": "execute_result"
    },
    {
     "data": {
      "image/png": "[encoded data removed]",
      "text/plain": [
       "<matplotlib.figure.Figure at 0x7fbf7795af10>"
      ]
     },
     "metadata": {},
     "output_type": "display_data"
    }
   ],
   "source": [
    "s_pipi_bins =  np.arange(0.2,2.5,0.05) \n",
    "\n",
    "a = plt.hist(s_ppi1,s_pipi_bins,weights=weight_list,normed=True,alpha=0.3,edgecolor=None,histtype='stepfilled',label=r'$\\sqrt{s_{p\\pi^+}}$')\n",
    "a = plt.hist(s_ppi2,s_pipi_bins,weights=weight_list,normed=True,alpha=0.3,edgecolor=None,histtype='stepfilled',label=r'$\\sqrt{s_{p\\pi^-}}$')\n",
    "a = plt.hist(s_pipi,s_pipi_bins,weights=weight_list,normed=True,alpha=0.3,edgecolor=None,histtype='stepfilled',label=r'$\\sqrt{s_{\\pi\\pi}}$')\n",
    "\n",
    "plt.title(r'Invariant Mass Distributions, $\\Delta^{++}$ resonance ME')\n",
    "plt.xlabel(r'$\\sqrt{s}$ [GeV]')\n",
    "plt.legend()"
   ]
  },
  {
   "cell_type": "markdown",
   "metadata": {},
   "source": [
    "# ME_Rho ( Rho Resonance)"
   ]
  },
  {
   "cell_type": "code",
   "execution_count": 38,
   "metadata": {
    "collapsed": true
   },
   "outputs": [],
   "source": [
    "def mat_el_rho(Mpstar, m1, m2, m3, p1, p2, p3):\n",
    "    # M = gamma+proton mass, m1 = proton, m2, m3 = pion masses\n",
    "    # p1 = proton, p2 = pi+, p3 = pi-\n",
    "    mp = 0.93827\n",
    "    mpi = 0.139570\n",
    "    \n",
    "    M_rho=0.775\n",
    "    G_rho=0.149\n",
    "    slope_rho = 0.06\n",
    "\n",
    "    #s_pipi is the invariant mass of the pi+ and pi-.\n",
    "    #cosThetaCM_rho is the CM-frame polar angle of the rho (the pi+pi- system)\n",
    "    pRho = p2+p3\n",
    "    s_pipi = kin.lor_prod(pRho,pRho)\n",
    "\n",
    "    sGammaProton = Mpstar**2\n",
    "    # Magnitude of Gamma 3-momentum in the CM frame\n",
    "    pGammaCM = (sGammaProton - mp**2)/(2.*np.sqrt(sGammaProton))\n",
    "    # Magnitude of Rho 3-momentum in the CM frame, rho recoils against p\n",
    "    # Note that rho isn't necessarily on-shell!\n",
    "    M_rhoStar = np.sqrt(s_pipi)\n",
    "    pRhoCM = np.sqrt( (sGammaProton - M_rhoStar**2 - mp**2)**2 - 4.*M_rhoStar**2 * mp**2 )/(2.*np.sqrt(sGammaProton))\n",
    "    ERhoCM = np.sqrt( M_rhoStar**2 + pRhoCM**2 )\n",
    "\n",
    "    # HARDCODED LAB-FRAME KINEMATICS!\n",
    "    Egamma = 3.\n",
    "    # Lab-frame gamma+proton momentum\n",
    "    pGamma = np.array([Egamma, 0., 0., Egamma])\n",
    "    \n",
    "    cosThetaCM_rho = (ERhoCM - kin.lor_prod(pRho,pGamma)/pGammaCM)/pRhoCM\n",
    "    if not (np.fabs(cosThetaCM_rho) <= 1.):\n",
    "        print cosThetaCM_rho\n",
    "    assert np.fabs(cosThetaCM_rho) <= 1.\n",
    "\n",
    "    norm_rho =  M_rho * G_rho/np.pi / slope_rho\n",
    "\n",
    "    BW_den_rho = (s_pipi-M_rho*M_rho)**2 + M_rho * M_rho * G_rho * G_rho\n",
    "\n",
    "    ME_rho = norm_rho * np.exp(-(1-cosThetaCM_rho)/slope_rho) / BW_den_rho\n",
    "    #ME_rho = norm_rho / BW_den_rho\n",
    "\n",
    "    return ME_rho"
   ]
  },
  {
   "cell_type": "code",
   "execution_count": 39,
   "metadata": {
    "collapsed": false
   },
   "outputs": [
    {
     "name": "stdout",
     "output_type": "stream",
     "text": [
      "Mpstar =  2.55146440165\n"
     ]
    }
   ],
   "source": [
    "p_four_vectors, pi1_four_vectors, pi2_four_vectors, weight_list = get_kin_list(100000,mat_el_rho)"
   ]
  },
  {
   "cell_type": "code",
   "execution_count": 40,
   "metadata": {
    "collapsed": false
   },
   "outputs": [
    {
     "name": "stdout",
     "output_type": "stream",
     "text": [
      "-0.362109185417 2.83457407011\n"
     ]
    }
   ],
   "source": [
    "pi1_pzs = pi1_four_vectors[:,3]\n",
    "pi2_pzs = pi2_four_vectors[:,3]\n",
    "p_pzs = p_four_vectors[:,3]\n",
    "print min(pi1_pzs), max(pi2_pzs)"
   ]
  },
  {
   "cell_type": "code",
   "execution_count": 41,
   "metadata": {
    "collapsed": false
   },
   "outputs": [
    {
     "data": {
      "text/plain": [
       "<matplotlib.legend.Legend at 0x7fbf779f3110>"
      ]
     },
     "execution_count": 41,
     "metadata": {},
     "output_type": "execute_result"
    },
    {
     "data": {
      "image/png": "[encoded data removed]",
      "text/plain": [
       "<matplotlib.figure.Figure at 0x7fbf779f3250>"
      ]
     },
     "metadata": {},
     "output_type": "display_data"
    }
   ],
   "source": [
    "pz_bins = np.arange(-0.5,3.5,0.1)\n",
    "\n",
    "a = plt.hist(pi1_pzs,pz_bins,weights=weight_list,normed=True,alpha=0.3,edgecolor=None,histtype='stepfilled',label=r'$\\pi^+$')\n",
    "a = plt.hist(pi2_pzs,pz_bins,weights=weight_list,normed=True,alpha=0.3,edgecolor=None,histtype='stepfilled',label=r'$\\pi^-$')\n",
    "a = plt.hist(p_pzs,pz_bins,weights=weight_list,normed=True,alpha=0.3,edgecolor=None,histtype='stepfilled',label=r'$p$')\n",
    "plt.xlabel(r'$p_z$')\n",
    "plt.title(r'$p_z$ distribution, $\\rho$ resonance ME')\n",
    "plt.legend()\n",
    "\n",
    "#plt.savefig(\"graphics/IDM_Esum_hist_m1_10MeV.pdf\", format='PDF', dpi=1000, bbox_inches='tight')"
   ]
  },
  {
   "cell_type": "code",
   "execution_count": 42,
   "metadata": {
    "collapsed": false
   },
   "outputs": [],
   "source": [
    "s_ppi1 = np.array([np.sqrt(kin.lor_prod(a+b,a+b)) for a,b in zip(p_four_vectors, pi1_four_vectors)])\n",
    "s_ppi2 = np.array([np.sqrt(kin.lor_prod(a+b,a+b)) for a,b in zip(p_four_vectors, pi2_four_vectors)])\n",
    "s_pipi = np.array([np.sqrt(kin.lor_prod(a+b,a+b)) for a,b in zip(pi1_four_vectors, pi2_four_vectors)])"
   ]
  },
  {
   "cell_type": "code",
   "execution_count": 43,
   "metadata": {
    "collapsed": false
   },
   "outputs": [
    {
     "data": {
      "text/plain": [
       "([1.0780881029364842, 2.4114366760109163],\n",
       " [1.0780866573586627, 2.4109783883977669],\n",
       " [0.27918198169256758, 1.6131906709504942])"
      ]
     },
     "execution_count": 43,
     "metadata": {},
     "output_type": "execute_result"
    }
   ],
   "source": [
    "[min(s_ppi1), max(s_ppi1)], [min(s_ppi2), max(s_ppi2)], [min(s_pipi), max(s_pipi)]"
   ]
  },
  {
   "cell_type": "code",
   "execution_count": 44,
   "metadata": {
    "collapsed": false
   },
   "outputs": [
    {
     "data": {
      "text/plain": [
       "<matplotlib.legend.Legend at 0x7fbf78e7c990>"
      ]
     },
     "execution_count": 44,
     "metadata": {},
     "output_type": "execute_result"
    },
    {
     "data": {
      "image/png": "[encoded data removed]",
      "text/plain": [
       "<matplotlib.figure.Figure at 0x7fbf78e7c250>"
      ]
     },
     "metadata": {},
     "output_type": "display_data"
    }
   ],
   "source": [
    "s_pipi_bins =  np.arange(0.2,2.5,0.05) \n",
    "\n",
    "a = plt.hist(s_ppi1,s_pipi_bins,weights=weight_list,normed=True,alpha=0.3,edgecolor=None,histtype='stepfilled',label=r'$\\sqrt{s_{p\\pi^+}}$')\n",
    "a = plt.hist(s_ppi2,s_pipi_bins,weights=weight_list,normed=True,alpha=0.3,edgecolor=None,histtype='stepfilled',label=r'$\\sqrt{s_{p\\pi^-}}$')\n",
    "a = plt.hist(s_pipi,s_pipi_bins,weights=weight_list,normed=True,alpha=0.3,edgecolor=None,histtype='stepfilled',label=r'$\\sqrt{s_{\\pi\\pi}}$')\n",
    "\n",
    "plt.xlabel(r'$\\sqrt{s}$ [GeV]')\n",
    "plt.title(r'Invariant Mass Distributions, $\\rho$ resonance ME')\n",
    "plt.legend()"
   ]
  },
  {
   "cell_type": "markdown",
   "metadata": {
    "collapsed": true
   },
   "source": [
    "# Adding Histograms and Sample Analysis"
   ]
  },
  {
   "cell_type": "code",
   "execution_count": 45,
   "metadata": {
    "collapsed": false
   },
   "outputs": [
    {
     "name": "stdout",
     "output_type": "stream",
     "text": [
      "Mpstar =  2.55146440165\n",
      "Mpstar =  2.55146440165\n"
     ]
    }
   ],
   "source": [
    "# Generate events\n",
    "# Don't forget to define the matrix elements above\n",
    "\n",
    "p_four_vectors_del, pi1_four_vectors_del, pi2_four_vectors_del, weight_list_del = get_kin_list(100000,mat_el_delta)\n",
    "p_four_vectors_rho, pi1_four_vectors_rho, pi2_four_vectors_rho, weight_list_rho = get_kin_list(100000,mat_el_rho)"
   ]
  },
  {
   "cell_type": "code",
   "execution_count": 82,
   "metadata": {
    "collapsed": true
   },
   "outputs": [],
   "source": [
    "# combine events with a relative weight\n",
    "relative_weight = 1.\n",
    "\n",
    "p_four_vectors = np.concatenate((p_four_vectors_rho,p_four_vectors_del))\n",
    "pi1_four_vectors = np.concatenate((pi1_four_vectors_rho,pi1_four_vectors_del))\n",
    "pi2_four_vectors = np.concatenate((pi2_four_vectors_rho,pi2_four_vectors_del))\n",
    "weight_list = np.concatenate((weight_list_rho,relative_weight*weight_list_del))"
   ]
  },
  {
   "cell_type": "markdown",
   "metadata": {},
   "source": [
    "## Histogram combined events"
   ]
  },
  {
   "cell_type": "code",
   "execution_count": 83,
   "metadata": {
    "collapsed": false
   },
   "outputs": [],
   "source": [
    "s_ppi1 = np.array([np.sqrt(kin.lor_prod(a+b,a+b)) for a,b in zip(p_four_vectors, pi1_four_vectors)])\n",
    "s_ppi2 = np.array([np.sqrt(kin.lor_prod(a+b,a+b)) for a,b in zip(p_four_vectors, pi2_four_vectors)])\n",
    "s_pipi = np.array([np.sqrt(kin.lor_prod(a+b,a+b)) for a,b in zip(pi1_four_vectors, pi2_four_vectors)])"
   ]
  },
  {
   "cell_type": "code",
   "execution_count": 84,
   "metadata": {
    "collapsed": false
   },
   "outputs": [
    {
     "data": {
      "text/plain": [
       "<matplotlib.legend.Legend at 0x7fbf75934f50>"
      ]
     },
     "execution_count": 84,
     "metadata": {},
     "output_type": "execute_result"
    },
    {
     "data": {
      "image/png": "[encoded data removed]",
      "text/plain": [
       "<matplotlib.figure.Figure at 0x7fbf78747b50>"
      ]
     },
     "metadata": {},
     "output_type": "display_data"
    }
   ],
   "source": [
    "# Invariant mass histo\n",
    "s_pipi_bins =  np.arange(0.2,2.5,0.05) \n",
    "\n",
    "a = plt.hist(s_ppi1,s_pipi_bins,weights=weight_list,normed=True,alpha=0.3,edgecolor=None,histtype='stepfilled',label=r'$\\sqrt{s_{p\\pi^+}}$')\n",
    "a = plt.hist(s_ppi2,s_pipi_bins,weights=weight_list,normed=True,alpha=0.3,edgecolor=None,histtype='stepfilled',label=r'$\\sqrt{s_{p\\pi^-}}$')\n",
    "a = plt.hist(s_pipi,s_pipi_bins,weights=weight_list,normed=True,alpha=0.3,edgecolor=None,histtype='stepfilled',label=r'$\\sqrt{s_{\\pi\\pi}}$')\n",
    "\n",
    "plt.xlabel(r'$\\sqrt{s}$ [GeV]')\n",
    "plt.title(r'Invariant Mass Distributions, combined events')\n",
    "plt.legend()"
   ]
  },
  {
   "cell_type": "markdown",
   "metadata": {},
   "source": [
    "## Cuts on combined events"
   ]
  },
  {
   "cell_type": "code",
   "execution_count": 85,
   "metadata": {
    "collapsed": true
   },
   "outputs": [],
   "source": [
    "# Lets select all backwards going pi+:\n",
    "def costheta(p):\n",
    "    px, py, pz = p[1], p[2], p[3]\n",
    "    return pz/np.sqrt(px**2 + py**2 + pz**2)\n",
    "\n",
    "# Compute cos theta for all 4 vectors\n",
    "costheta_piplus_list = np.array([costheta(p) for p in pi1_four_vectors])\n",
    "\n",
    "# Which 4 vectors pass?\n",
    "# This is an array of bools, which can be used index the desired events\n",
    "costheta_piplus_mask = costheta_piplus_list < 0.\n",
    "\n",
    "# Subset of four vectors for which costheta_piplus_mask are True\n",
    "pi1_four_vectors_cut = pi1_four_vectors[costheta_piplus_mask]\n",
    "pi2_four_vectors_cut = pi2_four_vectors[costheta_piplus_mask]\n",
    "p_four_vectors_cut = p_four_vectors[costheta_piplus_mask]\n",
    "weight_list_cut = weight_list[costheta_piplus_mask]"
   ]
  },
  {
   "cell_type": "code",
   "execution_count": 86,
   "metadata": {
    "collapsed": false
   },
   "outputs": [
    {
     "name": "stdout",
     "output_type": "stream",
     "text": [
      "-0.362981621339 2.8278537402\n"
     ]
    }
   ],
   "source": [
    "# Get z components of the 4 vectors\n",
    "pi1_pzs = pi1_four_vectors_cut[:,3]\n",
    "pi2_pzs = pi2_four_vectors_cut[:,3]\n",
    "p_pzs = p_four_vectors_cut[:,3]\n",
    "print min(pi1_pzs), max(pi2_pzs)"
   ]
  },
  {
   "cell_type": "code",
   "execution_count": 87,
   "metadata": {
    "collapsed": false
   },
   "outputs": [
    {
     "data": {
      "text/plain": [
       "<matplotlib.legend.Legend at 0x7fbf78747510>"
      ]
     },
     "execution_count": 87,
     "metadata": {},
     "output_type": "execute_result"
    },
    {
     "data": {
      "image/png": "[encoded data removed]",
      "text/plain": [
       "<matplotlib.figure.Figure at 0x7fbf78747650>"
      ]
     },
     "metadata": {},
     "output_type": "display_data"
    }
   ],
   "source": [
    "pz_bins = np.arange(-0.5,3.5,0.1)\n",
    "\n",
    "a = plt.hist(pi1_pzs,pz_bins,weights=weight_list_cut,normed=True,alpha=0.3,edgecolor=None,histtype='stepfilled',label=r'$\\pi^+$')\n",
    "a = plt.hist(pi2_pzs,pz_bins,weights=weight_list_cut,normed=True,alpha=0.3,edgecolor=None,histtype='stepfilled',label=r'$\\pi^-$')\n",
    "a = plt.hist(p_pzs,pz_bins,weights=weight_list_cut,normed=True,alpha=0.3,edgecolor=None,histtype='stepfilled',label=r'$p$')\n",
    "plt.xlabel(r'$p_z$')\n",
    "plt.title(r'$p_z$ distribution after angle cut on $\\pi^+$')\n",
    "plt.legend()\n",
    "\n",
    "#plt.savefig(\"graphics/IDM_Esum_hist_m1_10MeV.pdf\", format='PDF', dpi=1000, bbox_inches='tight')"
   ]
  },
  {
   "cell_type": "code",
   "execution_count": null,
   "metadata": {
    "collapsed": true
   },
   "outputs": [],
   "source": []
  }
 ],
 "metadata": {
  "kernelspec": {
   "display_name": "Python 2",
   "language": "python",
   "name": "python2"
  },
  "language_info": {
   "codemirror_mode": {
    "name": "ipython",
    "version": 2
   },
   "file_extension": ".py",
   "mimetype": "text/x-python",
   "name": "python",
   "nbconvert_exporter": "python",
   "pygments_lexer": "ipython2",
   "version": "2.7.12"
  }
 },
 "nbformat": 4,
 "nbformat_minor": 0
}
